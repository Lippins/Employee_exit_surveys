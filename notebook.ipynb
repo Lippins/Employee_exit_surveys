{
 "cells": [
  {
   "cell_type": "markdown",
   "metadata": {
    "collapsed": true
   },
   "source": [
    "# Cleaning and Analyzing Employee Exit Surveys\n",
    "\n",
    "Feedback from employee exit surveys can provide powerful insight into a company’s culture. It doesn't matter how excellent a company is, people are eventually going to leave. Exit surveys allows leaving employees to share their unique opinions. This can help companies in mitigating the many costs of losing other employees in the future.\n",
    "\n",
    "![](https://images.squarespace-cdn.com/content/v1/5dd58dee80e8fe0621b369a3/1630337526747-0Y46T61FP1AFLQ9X9A77/Employee+Exiting+An+Organization?format=1000w)\n",
    "\n",
    "Image source: [Skywalk Group](https://skywalkgroup.com/blog/post/the-importance-of-exit-interviews)\n",
    "\n",
    "## Project and Data Overview\n",
    "In this Project, we'll work with exit surveys from employees of the Department of Education, Training and Employment (DETE) and the Technical and Further Education (TAFE) institute in Queensland, Australia. \n",
    "\n",
    "The DETE exit survey data can be found [here](https://data.gov.au/dataset/ds-qld-fe96ff30-d157-4a81-851d-215f2a0fe26d/details?q=exit%20survey). However, the original TAFE exit survey data is no longer available. Some modifications have been made to the original datasets to make them easier to work with, especially changing the encoding from cp1252 to UTF-8.\n",
    "\n",
    "## Business Problem\n",
    "We will play the role of data analyst and pretend our stakeholders want to know the following:\n",
    "- Is some dissatisfaction causing newer and older employees to resign from the institute?\n",
    "- If a dissatisfaction is present, how does vary within the different age groups at the instititute? \n",
    "- Are females more likely to resign than males?\n",
    "\n",
    "The stakeholders want us to combine the results from both surveys and answer these questions. Although both surveys used the same template, one of them had customized answers. \n",
    "\n",
    "## Data Dictionary\n",
    "A data dictionary wasn't provided with the dataset. In a job setting, we'd **make sure** to meet with a manager to confirm the definitions of the data. For this project, we'll use our general knowledge to define the columns.\n",
    "\n",
    "From *`dete_survey.csv`*, we will focus on the following columns:\n",
    "- `ID`: An id used to identify the participant of the survey.\n",
    "\n",
    "- `SeparationType`: The reason why the person's employment ended.\n",
    "\n",
    "- `Cease Date`: The year or month the person's employment ended.\n",
    "\n",
    "- `DETE Start Date`: The year the person began employment with the DETE.\n",
    "\n",
    "From *`tafe_survey.csv`*, we will focus on the following columns:\n",
    "- `Record ID`: An id used to identify the participant of the survey.\n",
    "\n",
    "- `Reason for ceasing employment`: The reason why the person's employment ended.\n",
    "\n",
    "- `LengthofServiceOverall`. Overall Length of Service at Institute (in years): The length of the person's employment (in years).\n"
   ]
  },
  {
   "cell_type": "code",
   "execution_count": null,
   "metadata": {},
   "outputs": [],
   "source": []
  }
 ],
 "metadata": {
  "kernelspec": {
   "display_name": "Python 3 (ipykernel)",
   "language": "python",
   "name": "python3"
  },
  "language_info": {
   "codemirror_mode": {
    "name": "ipython",
    "version": 3
   },
   "file_extension": ".py",
   "mimetype": "text/x-python",
   "name": "python",
   "nbconvert_exporter": "python",
   "pygments_lexer": "ipython3",
   "version": "3.9.7"
  }
 },
 "nbformat": 4,
 "nbformat_minor": 2
}
